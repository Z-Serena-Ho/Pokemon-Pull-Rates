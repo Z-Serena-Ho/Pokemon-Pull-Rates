{
 "cells": [
  {
   "cell_type": "code",
   "execution_count": 1,
   "metadata": {},
   "outputs": [],
   "source": [
    "from bs4 import BeautifulSoup\n",
    "import requests\n",
    "import pandas as pd"
   ]
  },
  {
   "cell_type": "code",
   "execution_count": 2,
   "metadata": {},
   "outputs": [],
   "source": [
    "obf_url = 'https://bulbapedia.bulbagarden.net/wiki/Obsidian_Flames_(TCG)'\n",
    "obf_page = requests.get(obf_url)"
   ]
  },
  {
   "cell_type": "code",
   "execution_count": 3,
   "metadata": {},
   "outputs": [],
   "source": [
    "obf_soup = BeautifulSoup(obf_page.text, 'html')"
   ]
  },
  {
   "cell_type": "code",
   "execution_count": 4,
   "metadata": {},
   "outputs": [],
   "source": [
    "# Incidentally, there is another table with the same formatting.\n",
    "obf_table = obf_soup.find_all('table', class_ = 'roundy', style = 'float:left; background:#3d0023; border: 3px solid #ed324b')[1]"
   ]
  },
  {
   "cell_type": "code",
   "execution_count": 5,
   "metadata": {},
   "outputs": [],
   "source": [
    "# Creating Table Headers by specifying the top row.\n",
    "obf_headers = obf_table.find('tr', style = 'background:#f3983c;')"
   ]
  },
  {
   "cell_type": "code",
   "execution_count": 6,
   "metadata": {},
   "outputs": [],
   "source": [
    "# Strip the HTML tags for a List of column titles. Removing unnecessary column titles for this project.\n",
    "obf_column_titles = [header.text.strip() for header in obf_headers.find_all('th')]\n",
    "to_remove = ['Type', 'Mark', 'Promotion']\n",
    "for title in to_remove:\n",
    "    while title in obf_column_titles:\n",
    "        obf_column_titles.remove(title)"
   ]
  },
  {
   "cell_type": "code",
   "execution_count": 7,
   "metadata": {},
   "outputs": [],
   "source": [
    "# Create the dataframe with columns set.\n",
    "obf_df = pd.DataFrame(columns = obf_column_titles)"
   ]
  },
  {
   "cell_type": "code",
   "execution_count": 8,
   "metadata": {},
   "outputs": [],
   "source": [
    "# Incidentally, the type of the card is tagged as th, not td. It's unneeded for the purposes of this dataframe however.\n",
    "obf_column_data = obf_table.find_all('td', style = 'background:#FFFFFF')"
   ]
  },
  {
   "cell_type": "code",
   "execution_count": 9,
   "metadata": {},
   "outputs": [],
   "source": [
    "# Populate dataframe with column data. {'1': 'No.', '2': Mark, '3': 'Card name', '4': 'Rarity'}\n",
    "column_number = 0\n",
    "current_entry = []\n",
    "\n",
    "for value in obf_column_data:\n",
    "    row_to_update = len(obf_df)\n",
    "    column_number += 1\n",
    "\n",
    "    # Clean up set numbers. E.g. turn 001/197 into 1.\n",
    "    if column_number == 1:\n",
    "        set_number = value.text.strip()\n",
    "        set_number = set_number.replace('/197', '')\n",
    "        while set_number[0] == '0':\n",
    "            set_number = set_number[1:]\n",
    "        current_entry.append(set_number)\n",
    "\n",
    "    # Column 2, the Mark, is unnecessary so it's skipped.\n",
    "\n",
    "    elif column_number == 3:\n",
    "        # The ex (and other tags such as VStar) will not show up without additional code.\n",
    "        card_name = value.text.strip()\n",
    "\n",
    "        try:\n",
    "            pokemon_tag = value.find_all('a')[1].get('title')\n",
    "            card_name += ' ' + pokemon_tag\n",
    "            current_entry.append(card_name)\n",
    "        except:\n",
    "            current_entry.append(card_name)\n",
    "\n",
    "    elif column_number == 4:\n",
    "        current_entry.append(value.find('a').get('title'))\n",
    "        obf_df.loc[row_to_update] = current_entry\n",
    "\n",
    "        # Reset for the next row.\n",
    "        current_entry = []\n",
    "        column_number = 0"
   ]
  },
  {
   "cell_type": "code",
   "execution_count": 10,
   "metadata": {},
   "outputs": [],
   "source": [
    "obf_df.to_csv(r'C:/Users/zsere/Documents/Raw Data/Pokemon Set Card Info/Obsidian Flames Card Info.csv', index = False)"
   ]
  }
 ],
 "metadata": {
  "kernelspec": {
   "display_name": "base",
   "language": "python",
   "name": "python3"
  },
  "language_info": {
   "codemirror_mode": {
    "name": "ipython",
    "version": 3
   },
   "file_extension": ".py",
   "mimetype": "text/x-python",
   "name": "python",
   "nbconvert_exporter": "python",
   "pygments_lexer": "ipython3",
   "version": "3.11.4"
  }
 },
 "nbformat": 4,
 "nbformat_minor": 2
}
