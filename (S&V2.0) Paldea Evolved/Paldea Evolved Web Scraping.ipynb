{
 "cells": [
  {
   "cell_type": "code",
   "execution_count": 1,
   "metadata": {},
   "outputs": [],
   "source": [
    "from bs4 import BeautifulSoup\n",
    "import requests\n",
    "import pandas as pd"
   ]
  },
  {
   "cell_type": "code",
   "execution_count": 2,
   "metadata": {},
   "outputs": [],
   "source": [
    "pal_url = 'https://bulbapedia.bulbagarden.net/wiki/Paldea_Evolved_(TCG)'\n",
    "pal_page = requests.get(pal_url)"
   ]
  },
  {
   "cell_type": "code",
   "execution_count": 3,
   "metadata": {},
   "outputs": [],
   "source": [
    "pal_soup = BeautifulSoup(pal_page.text, 'html')"
   ]
  },
  {
   "cell_type": "code",
   "execution_count": 4,
   "metadata": {},
   "outputs": [],
   "source": [
    "# Incidentally, there is another table with the same formatting.\n",
    "pal_table = pal_soup.find_all('table', class_ = 'roundy', style = 'float:left; background:#98482a; border: 3px solid #651874')[1]"
   ]
  },
  {
   "cell_type": "code",
   "execution_count": 6,
   "metadata": {},
   "outputs": [],
   "source": [
    "#Creating Table Headers by specifying the top row.\n",
    "pal_headers = pal_table.find('tr', style = 'background:#faf5c9;')"
   ]
  },
  {
   "cell_type": "code",
   "execution_count": 7,
   "metadata": {},
   "outputs": [],
   "source": [
    "#Strip the HTML tags for a List of column titles. Removing unnecessary column titles for this project.\n",
    "pal_column_titles = [header.text.strip() for header in pal_headers.find_all('th')]\n",
    "to_remove = ['Type', 'Mark', 'Promotion']\n",
    "for title in to_remove:\n",
    "    while title in pal_column_titles:\n",
    "        pal_column_titles.remove(title)"
   ]
  },
  {
   "cell_type": "code",
   "execution_count": 9,
   "metadata": {},
   "outputs": [],
   "source": [
    "#Create the dataframe with columns set.\n",
    "pal_df = pd.DataFrame(columns = pal_column_titles)"
   ]
  },
  {
   "cell_type": "code",
   "execution_count": 11,
   "metadata": {},
   "outputs": [],
   "source": [
    "#Incidentally, the type of the card is tagged as th, not td. It's unneeded for the purposes of this dataframe however.\n",
    "pal_column_data = pal_table.find_all('td', style = 'background:#FFFFFF')"
   ]
  },
  {
   "cell_type": "code",
   "execution_count": 13,
   "metadata": {},
   "outputs": [],
   "source": [
    "#Populate dataframe with column data. {'1': 'No.', '2': Mark, '3': 'Card name', '4': 'Rarity'}\n",
    "column_number = 0\n",
    "current_entry = []\n",
    "\n",
    "for value in pal_column_data:\n",
    "    row_to_update = len(pal_df)\n",
    "    column_number += 1\n",
    "\n",
    "    if column_number == 1:\n",
    "        current_entry.append(value.text.strip())\n",
    "\n",
    "    #Column 2, the Mark, is unnecessary so it's skipped.\n",
    "\n",
    "    elif column_number == 3:\n",
    "        #The ex (and other tags such as VStar) will not show up without additional code.\n",
    "        card_name = value.text.strip()\n",
    "\n",
    "        try:\n",
    "            pokemon_tag = value.find_all('a')[1].get('title')\n",
    "            card_name += ' ' + pokemon_tag\n",
    "            current_entry.append(card_name)\n",
    "        except:\n",
    "            current_entry.append(card_name)\n",
    "\n",
    "    elif column_number == 4:\n",
    "        current_entry.append(value.find('a').get('title'))\n",
    "        pal_df.loc[row_to_update] = current_entry\n",
    "\n",
    "        #Reset for the next row.\n",
    "        current_entry = []\n",
    "        column_number = 0"
   ]
  },
  {
   "cell_type": "code",
   "execution_count": 15,
   "metadata": {},
   "outputs": [],
   "source": [
    "pal_df.to_csv(r'C:/Users/zsere/Documents/Raw Data/Pokemon Set Card Info/Paldea Evolved Card Info.csv')"
   ]
  }
 ],
 "metadata": {
  "kernelspec": {
   "display_name": "base",
   "language": "python",
   "name": "python3"
  },
  "language_info": {
   "codemirror_mode": {
    "name": "ipython",
    "version": 3
   },
   "file_extension": ".py",
   "mimetype": "text/x-python",
   "name": "python",
   "nbconvert_exporter": "python",
   "pygments_lexer": "ipython3",
   "version": "3.11.4"
  }
 },
 "nbformat": 4,
 "nbformat_minor": 2
}
